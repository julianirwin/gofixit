{
 "cells": [
  {
   "cell_type": "code",
   "execution_count": 1,
   "metadata": {},
   "outputs": [],
   "source": [
    "import gofixit\n",
    "from pathlib import Path\n",
    "from IPython.display import display, HTML"
   ]
  },
  {
   "cell_type": "code",
   "execution_count": 2,
   "metadata": {},
   "outputs": [],
   "source": [
    "path_db_asset = Path.home() / Path(\".gofixit/asset.json\")\n",
    "path_db_request = Path.home() / Path(\".gofixit/request.json\")\n",
    "\n",
    "db_asset = gofixit.TinyDB(path_db_asset)\n",
    "db_asset = gofixit.GoFixItDB(db_asset)\n",
    "\n",
    "db_request = gofixit.TinyDB(path_db_request)\n",
    "db_request = gofixit.GoFixItDB(db_request)\n",
    "\n",
    "c = gofixit.Controller(db_asset=db_asset, db_request=db_request, view=gofixit.ViewTabulate())"
   ]
  },
  {
   "cell_type": "code",
   "execution_count": 5,
   "metadata": {},
   "outputs": [
    {
     "data": {
      "text/html": [
       "<table>\n",
       "<thead>\n",
       "<tr><th style=\"text-align: right;\">  doc_id</th><th>name      </th><th>created                     </th></tr>\n",
       "</thead>\n",
       "<tbody>\n",
       "<tr><td style=\"text-align: right;\">       1</td><td>The House </td><td>2020-04-05T22:35:45.36436...</td></tr>\n",
       "<tr><td style=\"text-align: right;\">       2</td><td>GoFixIt   </td><td>2020-04-05T22:36:07.42709...</td></tr>\n",
       "<tr><td style=\"text-align: right;\">       3</td><td>Felt VR   </td><td>2020-04-05T22:36:36.43592...</td></tr>\n",
       "<tr><td style=\"text-align: right;\">       4</td><td>Giant 29er</td><td>2020-04-05T22:36:55.11995...</td></tr>\n",
       "<tr><td style=\"text-align: right;\">       5</td><td>Trek FX   </td><td>2020-04-05T22:37:45.55674...</td></tr>\n",
       "</tbody>\n",
       "</table>"
      ],
      "text/plain": [
       "<IPython.core.display.HTML object>"
      ]
     },
     "metadata": {},
     "output_type": "display_data"
    }
   ],
   "source": [
    "display(HTML(c.view_list_assets(show=False, tablefmt='html')))"
   ]
  },
  {
   "cell_type": "code",
   "execution_count": 13,
   "metadata": {},
   "outputs": [
    {
     "name": "stdout",
     "output_type": "stream",
     "text": [
      "<table>\n",
      "<thead>\n",
      "<tr><th style=\"text-align: right;\">  doc_id</th><th>name      </th><th>created                     </th></tr>\n",
      "</thead>\n",
      "<tbody>\n",
      "<tr><td style=\"text-align: right;\">       1</td><td>The House </td><td>2020-04-05T22:35:45.36436...</td></tr>\n",
      "<tr><td style=\"text-align: right;\">       2</td><td>GoFixIt   </td><td>2020-04-05T22:36:07.42709...</td></tr>\n",
      "<tr><td style=\"text-align: right;\">       3</td><td>Felt VR   </td><td>2020-04-05T22:36:36.43592...</td></tr>\n",
      "<tr><td style=\"text-align: right;\">       4</td><td>Giant 29er</td><td>2020-04-05T22:36:55.11995...</td></tr>\n",
      "<tr><td style=\"text-align: right;\">       5</td><td>Trek FX   </td><td>2020-04-05T22:37:45.55674...</td></tr>\n",
      "</tbody>\n",
      "</table>\n"
     ]
    }
   ],
   "source": [
    "c.view_list_assets(tablefmt='html')"
   ]
  },
  {
   "cell_type": "code",
   "execution_count": null,
   "metadata": {},
   "outputs": [],
   "source": []
  }
 ],
 "metadata": {
  "kernelspec": {
   "display_name": "Python 3",
   "language": "python",
   "name": "python3"
  },
  "language_info": {
   "codemirror_mode": {
    "name": "ipython",
    "version": 3
   },
   "file_extension": ".py",
   "mimetype": "text/x-python",
   "name": "python",
   "nbconvert_exporter": "python",
   "pygments_lexer": "ipython3",
   "version": "3.6.4"
  }
 },
 "nbformat": 4,
 "nbformat_minor": 2
}
